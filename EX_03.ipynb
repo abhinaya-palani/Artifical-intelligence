{
  "nbformat": 4,
  "nbformat_minor": 0,
  "metadata": {
    "colab": {
      "provenance": [],
      "authorship_tag": "ABX9TyPcoTbsjInZTAbmetFTUtkd",
      "include_colab_link": true
    },
    "kernelspec": {
      "name": "python3",
      "display_name": "Python 3"
    },
    "language_info": {
      "name": "python"
    }
  },
  "cells": [
    {
      "cell_type": "markdown",
      "metadata": {
        "id": "view-in-github",
        "colab_type": "text"
      },
      "source": [
        "<a href=\"https://colab.research.google.com/github/abhinaya-palani/Artifical-intelligence/blob/main/EX_03.ipynb\" target=\"_parent\"><img src=\"https://colab.research.google.com/assets/colab-badge.svg\" alt=\"Open In Colab\"/></a>"
      ]
    },
    {
      "cell_type": "code",
      "execution_count": 1,
      "metadata": {
        "colab": {
          "base_uri": "https://localhost:8080/"
        },
        "id": "N27k3EtEAkiX",
        "outputId": "d49b7856-e51d-40bc-e486-a72163488ddc"
      },
      "outputs": [
        {
          "output_type": "stream",
          "name": "stdout",
          "text": [
            "Path from initial state to solution state ::\n",
            "( 0 , 0 )\n",
            "( 0 , 3 )\n",
            "( 4 , 0 )\n",
            "( 4 , 3 )\n",
            "( 3 , 0 )\n",
            "( 1 , 3 )\n",
            "( 3 , 3 )\n",
            "( 4 , 2 )\n",
            "( 0 , 2 )\n"
          ]
        }
      ],
      "source": [
        "from collections import deque\n",
        "\n",
        "def Solution(a, b, target):\n",
        "    m = {}\n",
        "    isSolvable = False\n",
        "    path = []\n",
        "\n",
        "    q = deque()\n",
        "\n",
        "    # Initializing with jugs being empty\n",
        "    q.append((0, 0))\n",
        "\n",
        "    while len(q) > 0:\n",
        "        # Current state\n",
        "        u = q.popleft()\n",
        "\n",
        "        # Skip if the state is already visited\n",
        "        if (u[0], u[1]) in m:\n",
        "            continue\n",
        "\n",
        "        # Skip invalid states\n",
        "        if u[0] > a or u[1] > b or u[0] < 0 or u[1] < 0:\n",
        "            continue\n",
        "\n",
        "        # Add current state to the path\n",
        "        path.append([u[0], u[1]])\n",
        "\n",
        "        # Mark current state as visited\n",
        "        m[(u[0], u[1])] = 1\n",
        "\n",
        "        # Check if target is achieved\n",
        "        if u[0] == target or u[1] == target:\n",
        "            isSolvable = True\n",
        "\n",
        "            if u[0] == target:\n",
        "                if u[1] != 0:\n",
        "                    path.append([u[0], 0])\n",
        "            else:\n",
        "                if u[0] != 0:\n",
        "                    path.append([0, u[1]])\n",
        "\n",
        "            # Print the solution path\n",
        "            sz = len(path)\n",
        "            for i in range(sz):\n",
        "                print(\"(\", path[i][0], \",\", path[i][1], \")\")\n",
        "            break\n",
        "\n",
        "        # Generate all possible states\n",
        "        q.append([u[0], b])  # Fill Jug2\n",
        "        q.append([a, u[1]])  # Fill Jug1\n",
        "\n",
        "        for ap in range(max(a, b) + 1):\n",
        "            c = u[0] + ap\n",
        "            d = u[1] - ap\n",
        "\n",
        "            if c == a or (d == 0 and d >= 0):\n",
        "                q.append([c, d])\n",
        "\n",
        "            c = u[0] - ap\n",
        "            d = u[1] + ap\n",
        "\n",
        "            if (c == 0 and c >= 0) or d == b:\n",
        "                q.append([c, d])\n",
        "\n",
        "        q.append([a, 0])  # Empty Jug2\n",
        "        q.append([0, b])  # Empty Jug1\n",
        "\n",
        "    if not isSolvable:\n",
        "        print(\"Solution not possible\")\n",
        "\n",
        "if __name__ == '__main__':\n",
        "    Jug1, Jug2, target = 4, 3, 2\n",
        "    print(\"Path from initial state to solution state ::\")\n",
        "    Solution(Jug1, Jug2, target)"
      ]
    }
  ]
}