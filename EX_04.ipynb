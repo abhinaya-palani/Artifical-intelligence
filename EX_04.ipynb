{
  "nbformat": 4,
  "nbformat_minor": 0,
  "metadata": {
    "colab": {
      "provenance": [],
      "authorship_tag": "ABX9TyNkBOeYzAiM1k5GPobrpaDV",
      "include_colab_link": true
    },
    "kernelspec": {
      "name": "python3",
      "display_name": "Python 3"
    },
    "language_info": {
      "name": "python"
    }
  },
  "cells": [
    {
      "cell_type": "markdown",
      "metadata": {
        "id": "view-in-github",
        "colab_type": "text"
      },
      "source": [
        "<a href=\"https://colab.research.google.com/github/abhinaya-palani/Artifical-intelligence/blob/main/EX_04.ipynb\" target=\"_parent\"><img src=\"https://colab.research.google.com/assets/colab-badge.svg\" alt=\"Open In Colab\"/></a>"
      ]
    },
    {
      "cell_type": "code",
      "execution_count": 1,
      "metadata": {
        "colab": {
          "base_uri": "https://localhost:8080/"
        },
        "id": "qrjWVpZ-BPrU",
        "outputId": "87a94b5c-4d21-4987-b9e7-7de16091cb2f"
      },
      "outputs": [
        {
          "output_type": "stream",
          "name": "stdout",
          "text": [
            "[[0 0 0]\n",
            " [0 0 0]\n",
            " [0 0 0]]\n",
            "Board after 1 move\n",
            "[[0 1 0]\n",
            " [0 0 0]\n",
            " [0 0 0]]\n",
            "Board after 2 move\n",
            "[[2 1 0]\n",
            " [0 0 0]\n",
            " [0 0 0]]\n",
            "Board after 3 move\n",
            "[[2 1 0]\n",
            " [0 0 0]\n",
            " [1 0 0]]\n",
            "Board after 4 move\n",
            "[[2 1 0]\n",
            " [0 0 0]\n",
            " [1 0 2]]\n",
            "Board after 5 move\n",
            "[[2 1 0]\n",
            " [1 0 0]\n",
            " [1 0 2]]\n",
            "Board after 6 move\n",
            "[[2 1 0]\n",
            " [1 2 0]\n",
            " [1 0 2]]\n",
            "Winner is: 2\n"
          ]
        }
      ],
      "source": [
        "import numpy as np\n",
        "import random\n",
        "from time import sleep\n",
        "\n",
        "def create_board():\n",
        "    return np.zeros((3, 3), dtype=int)\n",
        "\n",
        "def possibilities(board):\n",
        "    return [(i, j) for i in range(3) for j in range(3) if board[i, j] == 0]\n",
        "\n",
        "def random_place(board, player):\n",
        "    selection = possibilities(board)\n",
        "    if selection:\n",
        "        current_loc = random.choice(selection)\n",
        "        board[current_loc] = player\n",
        "    return board\n",
        "\n",
        "def check_win(board, player):\n",
        "    return (any(np.all(board == player, axis=0)) or  # Check rows\n",
        "            any(np.all(board == player, axis=1)) or  # Check columns\n",
        "            np.all(np.diag(board) == player) or      # Check main diagonal\n",
        "            np.all(np.diag(np.fliplr(board)) == player))  # Check secondary diagonal\n",
        "\n",
        "def evaluate(board):\n",
        "    for player in [1, 2]:\n",
        "        if check_win(board, player):\n",
        "            return player\n",
        "    return -1 if np.all(board != 0) else 0\n",
        "\n",
        "def play_game():\n",
        "    board, winner, counter = create_board(), 0, 1\n",
        "    print(board)\n",
        "    sleep(2)\n",
        "\n",
        "    while winner == 0:\n",
        "        for player in [1, 2]:\n",
        "            board = random_place(board, player)\n",
        "            print(f\"Board after {counter} move\")\n",
        "            print(board)\n",
        "            sleep(2)\n",
        "            counter += 1\n",
        "            winner = evaluate(board)\n",
        "            if winner != 0:\n",
        "                break\n",
        "\n",
        "    return winner\n",
        "\n",
        "# Driver Code\n",
        "print(\"Winner is:\", play_game())"
      ]
    }
  ]
}