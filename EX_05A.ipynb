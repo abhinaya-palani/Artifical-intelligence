{
  "nbformat": 4,
  "nbformat_minor": 0,
  "metadata": {
    "colab": {
      "provenance": [],
      "authorship_tag": "ABX9TyMEKwnEVNItNU+4xAw7FGEq",
      "include_colab_link": true
    },
    "kernelspec": {
      "name": "python3",
      "display_name": "Python 3"
    },
    "language_info": {
      "name": "python"
    }
  },
  "cells": [
    {
      "cell_type": "markdown",
      "metadata": {
        "id": "view-in-github",
        "colab_type": "text"
      },
      "source": [
        "<a href=\"https://colab.research.google.com/github/abhinaya-palani/Artifical-intelligence/blob/main/EX_05A.ipynb\" target=\"_parent\"><img src=\"https://colab.research.google.com/assets/colab-badge.svg\" alt=\"Open In Colab\"/></a>"
      ]
    },
    {
      "cell_type": "code",
      "execution_count": 1,
      "metadata": {
        "colab": {
          "base_uri": "https://localhost:8080/"
        },
        "id": "Z4P7NJYpCSsG",
        "outputId": "b7ec2009-201d-4e7a-ee4b-1fe6148eae9a"
      },
      "outputs": [
        {
          "output_type": "stream",
          "name": "stdout",
          "text": [
            "Path found: ['A', 'F', 'G', 'I', 'J']\n"
          ]
        },
        {
          "output_type": "execute_result",
          "data": {
            "text/plain": [
              "['A', 'F', 'G', 'I', 'J']"
            ]
          },
          "metadata": {},
          "execution_count": 1
        }
      ],
      "source": [
        "def aStarAlgo(start_node, stop_node):\n",
        "    open_set = {start_node}\n",
        "    closed_set = set()\n",
        "    g = {start_node: 0}  # Cost from start to each node\n",
        "    parents = {start_node: start_node}  # Parent nodes to reconstruct the path\n",
        "\n",
        "    while open_set:\n",
        "        # Find the node with the lowest f(n) = g(n) + h(n)\n",
        "        n = min(open_set, key=lambda x: g[x] + heuristic(x))\n",
        "\n",
        "        if n == stop_node or n not in Graph_nodes:\n",
        "            break\n",
        "\n",
        "        open_set.remove(n)\n",
        "        closed_set.add(n)\n",
        "\n",
        "        for (m, weight) in get_neighbors(n):\n",
        "            if m not in open_set and m not in closed_set:\n",
        "                open_set.add(m)\n",
        "                parents[m] = n\n",
        "                g[m] = g[n] + weight\n",
        "            elif m in open_set and g[m] > g[n] + weight:\n",
        "                g[m] = g[n] + weight\n",
        "                parents[m] = n\n",
        "                if m in closed_set:\n",
        "                    closed_set.remove(m)\n",
        "                    open_set.add(m)\n",
        "\n",
        "    if n == stop_node:\n",
        "        # Reconstruct the path\n",
        "        path = []\n",
        "        while parents[n] != n:\n",
        "            path.append(n)\n",
        "            n = parents[n]\n",
        "        path.append(start_node)\n",
        "        path.reverse()\n",
        "        print('Path found: {}'.format(path))\n",
        "        return path\n",
        "    else:\n",
        "        print('Path does not exist!')\n",
        "        return None\n",
        "\n",
        "def get_neighbors(v):\n",
        "    if v in Graph_nodes:\n",
        "        return Graph_nodes[v]\n",
        "    else:\n",
        "        return []\n",
        "\n",
        "def heuristic(n):\n",
        "    H_dist = {\n",
        "        'A': 11, 'B': 6, 'C': 5, 'D': 7, 'E': 3, 'F': 6, 'G': 5,\n",
        "        'H': 3, 'I': 1, 'J': 0\n",
        "    }\n",
        "    return H_dist[n]\n",
        "\n",
        "# Graph representation\n",
        "Graph_nodes = {\n",
        "    'A': [('B', 6), ('F', 3)],\n",
        "    'B': [('A', 6), ('C', 3), ('D', 2)],\n",
        "    'C': [('B', 3), ('D', 1), ('E', 5)],\n",
        "    'D': [('B', 2), ('C', 1), ('E', 8)],\n",
        "    'E': [('C', 5), ('D', 8), ('I', 5), ('J', 5)],\n",
        "    'F': [('A', 3), ('G', 1), ('H', 7)],\n",
        "    'G': [('F', 1), ('I', 3)],\n",
        "    'H': [('F', 7), ('I', 2)],\n",
        "    'I': [('E', 5), ('G', 3), ('H', 2), ('J', 3)],\n",
        "}\n",
        "\n",
        "# Run the A* algorithm\n",
        "aStarAlgo('A', 'J')"
      ]
    }
  ]
}