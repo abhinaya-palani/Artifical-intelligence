{
  "nbformat": 4,
  "nbformat_minor": 0,
  "metadata": {
    "colab": {
      "provenance": [],
      "authorship_tag": "ABX9TyPQrrOoLGKq8Yjpbhnxbeng",
      "include_colab_link": true
    },
    "kernelspec": {
      "name": "python3",
      "display_name": "Python 3"
    },
    "language_info": {
      "name": "python"
    }
  },
  "cells": [
    {
      "cell_type": "markdown",
      "metadata": {
        "id": "view-in-github",
        "colab_type": "text"
      },
      "source": [
        "<a href=\"https://colab.research.google.com/github/abhinaya-palani/Artifical-intelligence/blob/main/EX_06A.ipynb\" target=\"_parent\"><img src=\"https://colab.research.google.com/assets/colab-badge.svg\" alt=\"Open In Colab\"/></a>"
      ]
    },
    {
      "cell_type": "code",
      "execution_count": 1,
      "metadata": {
        "colab": {
          "base_uri": "https://localhost:8080/"
        },
        "id": "iEWCxrjjD_MI",
        "outputId": "48495748-0e3e-4818-adc0-d629754821d3"
      },
      "outputs": [
        {
          "output_type": "stream",
          "name": "stdout",
          "text": [
            "The optimal value is: 12\n"
          ]
        }
      ],
      "source": [
        "import math\n",
        "\n",
        "def minimax(curDepth, nodeIndex, maxTurn, scores, targetDepth):\n",
        "    # Base case: targetDepth reached\n",
        "    if curDepth == targetDepth:\n",
        "        return scores[nodeIndex]\n",
        "\n",
        "    if maxTurn:\n",
        "        return max(\n",
        "            minimax(curDepth + 1, nodeIndex * 2, False, scores, targetDepth),\n",
        "            minimax(curDepth + 1, nodeIndex * 2 + 1, False, scores, targetDepth)\n",
        "        )\n",
        "    else:\n",
        "        return min(\n",
        "            minimax(curDepth + 1, nodeIndex * 2, True, scores, targetDepth),\n",
        "            minimax(curDepth + 1, nodeIndex * 2 + 1, True, scores, targetDepth)\n",
        "        )\n",
        "\n",
        "# Driver code\n",
        "scores = [3, 5, 2, 9, 12, 5, 23, 23]\n",
        "treeDepth = int(math.log2(len(scores)))  # Ensure it's an integer\n",
        "\n",
        "print(\"The optimal value is:\", minimax(0, 0, True, scores, treeDepth))\n"
      ]
    }
  ]
}