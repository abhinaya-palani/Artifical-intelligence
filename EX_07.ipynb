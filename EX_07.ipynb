{
  "nbformat": 4,
  "nbformat_minor": 0,
  "metadata": {
    "colab": {
      "provenance": [],
      "authorship_tag": "ABX9TyNEadnM34432rlgkaMrqe5Q",
      "include_colab_link": true
    },
    "kernelspec": {
      "name": "python3",
      "display_name": "Python 3"
    },
    "language_info": {
      "name": "python"
    }
  },
  "cells": [
    {
      "cell_type": "markdown",
      "metadata": {
        "id": "view-in-github",
        "colab_type": "text"
      },
      "source": [
        "<a href=\"https://colab.research.google.com/github/abhinaya-palani/Artifical-intelligence/blob/main/EX_07.ipynb\" target=\"_parent\"><img src=\"https://colab.research.google.com/assets/colab-badge.svg\" alt=\"Open In Colab\"/></a>"
      ]
    },
    {
      "cell_type": "code",
      "source": [
        "from constraint import Problem, AllDifferentConstraint\n",
        "\n",
        "# Define a proper constraint function\n",
        "def define_constraints(a, b, c):\n",
        "    # Example constraint: a + b should be greater than c\n",
        "    return a + b > c\n",
        "\n",
        "def main():\n",
        "    # Create a problem instance\n",
        "    problem = Problem()\n",
        "\n",
        "    # Add variables to the problem\n",
        "    problem.addVariable('a', range(1, 5))\n",
        "    problem.addVariable('b', range(2, 4))\n",
        "    problem.addVariable('c', range(1, 3))\n",
        "\n",
        "    # Add custom constraint function to the problem\n",
        "    problem.addConstraint(define_constraints, ['a', 'b', 'c'])\n",
        "\n",
        "    # Add an \"All Different\" constraint\n",
        "    problem.addConstraint(AllDifferentConstraint(), ['a', 'b', 'c'])\n",
        "\n",
        "    # Solve the problem\n",
        "    solutions = problem.getSolutions()\n",
        "\n",
        "    # Print the solutions\n",
        "    for solution in solutions:\n",
        "        print(solution)\n",
        "\n",
        "if __name__ == \"__main__\":\n",
        "    main()\n"
      ],
      "metadata": {
        "colab": {
          "base_uri": "https://localhost:8080/"
        },
        "id": "__KsWpotFz5h",
        "outputId": "1bce0416-1578-4602-88a9-525a9306da19"
      },
      "execution_count": 4,
      "outputs": [
        {
          "output_type": "stream",
          "name": "stdout",
          "text": [
            "{'b': 3, 'c': 2, 'a': 4}\n",
            "{'b': 3, 'c': 2, 'a': 1}\n",
            "{'b': 3, 'c': 1, 'a': 2}\n",
            "{'b': 3, 'c': 1, 'a': 4}\n",
            "{'b': 2, 'c': 1, 'a': 3}\n",
            "{'b': 2, 'c': 1, 'a': 4}\n"
          ]
        }
      ]
    },
    {
      "cell_type": "code",
      "source": [],
      "metadata": {
        "id": "2VNIn81LGRjd"
      },
      "execution_count": null,
      "outputs": []
    }
  ]
}