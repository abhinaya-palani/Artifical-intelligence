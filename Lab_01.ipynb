{
  "nbformat": 4,
  "nbformat_minor": 0,
  "metadata": {
    "colab": {
      "provenance": [],
      "authorship_tag": "ABX9TyOrP6UzMlfubIJZeNtdtVo8",
      "include_colab_link": true
    },
    "kernelspec": {
      "name": "python3",
      "display_name": "Python 3"
    },
    "language_info": {
      "name": "python"
    }
  },
  "cells": [
    {
      "cell_type": "markdown",
      "metadata": {
        "id": "view-in-github",
        "colab_type": "text"
      },
      "source": [
        "<a href=\"https://colab.research.google.com/github/abhinaya-palani/Artifical-intelligence/blob/main/Lab_01.ipynb\" target=\"_parent\"><img src=\"https://colab.research.google.com/assets/colab-badge.svg\" alt=\"Open In Colab\"/></a>"
      ]
    },
    {
      "cell_type": "code",
      "execution_count": 1,
      "metadata": {
        "colab": {
          "base_uri": "https://localhost:8080/"
        },
        "id": "IdptQSej7_WK",
        "outputId": "672f319e-9abd-4349-fcf1-b39b0335639f"
      },
      "outputs": [
        {
          "output_type": "stream",
          "name": "stdout",
          "text": [
            "4\n"
          ]
        }
      ],
      "source": [
        "class Solution:\n",
        "    def solve(self, board):\n",
        "        dict = {}\n",
        "        flatten = []\n",
        "        for i in range(len(board)):\n",
        "            flatten += board[i]\n",
        "        flatten = tuple(flatten)\n",
        "\n",
        "        dict[flatten] = 0\n",
        "\n",
        "        if flatten == (0, 1, 2, 3, 4, 5, 6, 7, 8):\n",
        "            return 0\n",
        "\n",
        "        return self.get_paths(dict)\n",
        "\n",
        "    def get_paths(self, dict):\n",
        "        cnt = 0\n",
        "        while True:\n",
        "            current_nodes = [x for x in dict if dict[x] == cnt]\n",
        "            if len(current_nodes) == 0:\n",
        "                return -1\n",
        "\n",
        "            for node in current_nodes:\n",
        "                next_moves = self.find_next(node)\n",
        "                for move in next_moves:\n",
        "                    if move not in dict:\n",
        "                        dict[move] = cnt + 1\n",
        "                        if move == (0, 1, 2, 3, 4, 5, 6, 7, 8):\n",
        "                            return cnt + 1\n",
        "            cnt += 1\n",
        "\n",
        "    def find_next(self, node):\n",
        "        moves = {\n",
        "            0: [1, 3],\n",
        "            1: [0, 2, 4],\n",
        "            2: [1, 5],\n",
        "            3: [0, 4, 6],\n",
        "            4: [1, 3, 5, 7],\n",
        "            5: [2, 4, 8],\n",
        "            6: [3, 7],\n",
        "            7: [4, 6, 8],\n",
        "            8: [5, 7],\n",
        "        }\n",
        "\n",
        "        results = []\n",
        "        pos_0 = node.index(0)\n",
        "        for move in moves[pos_0]:\n",
        "            new_node = list(node)\n",
        "            new_node[move], new_node[pos_0] = new_node[pos_0], new_node[move]\n",
        "            results.append(tuple(new_node))\n",
        "        return results\n",
        "\n",
        "\n",
        "ob = Solution()\n",
        "matrix = [\n",
        "    [3, 1, 2],\n",
        "    [4, 7, 5],\n",
        "    [6, 8, 0]\n",
        "]\n",
        "print(ob.solve(matrix))"
      ]
    }
  ]
}