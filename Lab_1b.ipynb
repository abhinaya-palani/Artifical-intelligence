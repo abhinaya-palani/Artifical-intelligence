{
  "nbformat": 4,
  "nbformat_minor": 0,
  "metadata": {
    "colab": {
      "provenance": [],
      "authorship_tag": "ABX9TyNnbt6DC98RUcUIalzQ7NTb",
      "include_colab_link": true
    },
    "kernelspec": {
      "name": "python3",
      "display_name": "Python 3"
    },
    "language_info": {
      "name": "python"
    }
  },
  "cells": [
    {
      "cell_type": "markdown",
      "metadata": {
        "id": "view-in-github",
        "colab_type": "text"
      },
      "source": [
        "<a href=\"https://colab.research.google.com/github/abhinaya-palani/Artifical-intelligence/blob/main/Lab_1b.ipynb\" target=\"_parent\"><img src=\"https://colab.research.google.com/assets/colab-badge.svg\" alt=\"Open In Colab\"/></a>"
      ]
    },
    {
      "cell_type": "code",
      "execution_count": 1,
      "metadata": {
        "colab": {
          "base_uri": "https://localhost:8080/"
        },
        "id": "QfwHJ7rX9Yid",
        "outputId": "960f67a5-6887-44c0-ba29-30b09288ad99"
      },
      "outputs": [
        {
          "output_type": "stream",
          "name": "stdout",
          "text": [
            "Enter the number of queens\n",
            "8\n",
            "Solution exists. Placements of queens:\n",
            "[1, 0, 0, 0, 0, 0, 0, 0]\n",
            "[0, 0, 0, 0, 1, 0, 0, 0]\n",
            "[0, 0, 0, 0, 0, 0, 0, 1]\n",
            "[0, 0, 0, 0, 0, 1, 0, 0]\n",
            "[0, 0, 1, 0, 0, 0, 0, 0]\n",
            "[0, 0, 0, 0, 0, 0, 1, 0]\n",
            "[0, 1, 0, 0, 0, 0, 0, 0]\n",
            "[0, 0, 0, 1, 0, 0, 0, 0]\n"
          ]
        }
      ],
      "source": [
        "print(\"Enter the number of queens\")\n",
        "N = int(input())\n",
        "\n",
        "# Create a chessboard NxN matrix with all elements set to 0\n",
        "board = [[0] * N for _ in range(N)]\n",
        "\n",
        "def is_safe(i, j):\n",
        "    # Checking vertically and horizontally\n",
        "    for k in range(N):\n",
        "        if board[i][k] == 1 or board[k][j] == 1:\n",
        "            return False\n",
        "\n",
        "    # Checking diagonally\n",
        "    for k in range(N):\n",
        "        for l in range(N):\n",
        "            if (k + l == i + j or k - l == i - j) and board[k][l] == 1:\n",
        "                return False\n",
        "\n",
        "    return True\n",
        "\n",
        "def solve_n_queens(n):\n",
        "    if n == 0:\n",
        "        return True\n",
        "\n",
        "    for i in range(N):\n",
        "        for j in range(N):\n",
        "            if not is_safe(i, j):\n",
        "                continue\n",
        "\n",
        "            if board[i][j] != 1:\n",
        "                board[i][j] = 1\n",
        "                if solve_n_queens(n - 1):\n",
        "                    return True\n",
        "                board[i][j] = 0\n",
        "\n",
        "    return False\n",
        "\n",
        "# Check if a solution exists\n",
        "if solve_n_queens(N):\n",
        "    print(\"Solution exists. Placements of queens:\")\n",
        "    for row in board:\n",
        "        print(row)\n",
        "else:\n",
        "    print(\"No solution exists.\")"
      ]
    }
  ]
}