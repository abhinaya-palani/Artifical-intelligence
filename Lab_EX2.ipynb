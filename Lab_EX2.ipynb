{
  "nbformat": 4,
  "nbformat_minor": 0,
  "metadata": {
    "colab": {
      "provenance": [],
      "authorship_tag": "ABX9TyOU3asLbbQvUaf1U5kQ0ZOl",
      "include_colab_link": true
    },
    "kernelspec": {
      "name": "python3",
      "display_name": "Python 3"
    },
    "language_info": {
      "name": "python"
    }
  },
  "cells": [
    {
      "cell_type": "markdown",
      "metadata": {
        "id": "view-in-github",
        "colab_type": "text"
      },
      "source": [
        "<a href=\"https://colab.research.google.com/github/abhinaya-palani/Artifical-intelligence/blob/main/Lab_EX2.ipynb\" target=\"_parent\"><img src=\"https://colab.research.google.com/assets/colab-badge.svg\" alt=\"Open In Colab\"/></a>"
      ]
    },
    {
      "cell_type": "code",
      "execution_count": 2,
      "metadata": {
        "colab": {
          "base_uri": "https://localhost:8080/"
        },
        "id": "6_T0PKNp-bQl",
        "outputId": "7e363c31-48cc-4e29-ea12-dd47daa61fc1"
      },
      "outputs": [
        {
          "output_type": "stream",
          "name": "stdout",
          "text": [
            "Following is Breadth First Traversal (starting from vertex 2)\n",
            "2 0 3 1 "
          ]
        }
      ],
      "source": [
        "\n",
        "from collections import defaultdict\n",
        "\n",
        "# using adjacency list representation\n",
        "class Graph:\n",
        "\n",
        "    # Constructor\n",
        "    def __init__(self):\n",
        "        # default dictionary to store graph\n",
        "        self.graph = defaultdict(list)\n",
        "        # Make a list visited[] to check if a node is already visited or not\n",
        "        self.visited = []\n",
        "\n",
        "    # function to add an edge to graph\n",
        "    def addEdge(self, u, v):\n",
        "        self.graph[u].append(v)\n",
        "\n",
        "    # Function to print a BFS of graph\n",
        "    def BFS(self, s):\n",
        "        # Create a queue for BFS\n",
        "        queue = []\n",
        "\n",
        "        # Add the source node in visited and enqueue it\n",
        "        queue.append(s)\n",
        "        self.visited.append(s)\n",
        "\n",
        "        while queue:\n",
        "            # Dequeue a vertex from queue and print it\n",
        "            s = queue.pop(0)\n",
        "            print(s, end=\" \")\n",
        "\n",
        "            # Get all adjacent vertices of the dequeued vertex s.\n",
        "            # If a adjacent has not been visited, then add it in visited and enqueue it\n",
        "            for i in self.graph[s]:\n",
        "                if i not in self.visited:\n",
        "                    queue.append(i)\n",
        "                    self.visited.append(i)\n",
        "\n",
        "# Driver code\n",
        "# Create a graph given in the above diagram\n",
        "g = Graph()\n",
        "g.addEdge(0, 1)\n",
        "g.addEdge(0, 2)\n",
        "g.addEdge(1, 2)\n",
        "g.addEdge(2, 0)\n",
        "g.addEdge(2, 3)\n",
        "g.addEdge(3, 3)\n",
        "\n",
        "print(\"Following is Breadth First Traversal (starting from vertex 2)\")\n",
        "g.BFS(2)"
      ]
    }
  ]
}